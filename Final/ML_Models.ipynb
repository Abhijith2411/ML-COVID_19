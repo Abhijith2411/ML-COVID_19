{
 "cells": [
  {
   "cell_type": "code",
   "execution_count": 1,
   "metadata": {
    "id": "AKI-7a14PpNN"
   },
   "outputs": [],
   "source": [
    "import os, shutil\n",
    "import numpy as np\n",
    "\n",
    "from matplotlib import image, pyplot\n",
    "from skimage.transform import resize\n",
    "\n",
    "\n",
    "from tensorflow.keras.utils import to_categorical\n",
    "from tensorflow.keras.models import Sequential, Model\n",
    "from keras.layers import Conv2D,MaxPool2D,Dense,Flatten,Dropout\n",
    "\n",
    "from tensorflow.keras import callbacks\n",
    "from keras.callbacks import ModelCheckpoint, ReduceLROnPlateau, CSVLogger\n",
    "\n",
    "from sklearn.model_selection import train_test_split\n",
    "from sklearn.metrics import confusion_matrix,accuracy_score, precision_score, f1_score, recall_score,classification_report,roc_curve, auc \n",
    "from sklearn.utils import class_weight\n",
    "\n",
    "from sklearn.linear_model import LogisticRegression\n",
    "from sklearn.naive_bayes import GaussianNB\n",
    "from sklearn.neighbors import KNeighborsClassifier\n",
    "from sklearn.tree import DecisionTreeClassifier\n",
    "from sklearn.ensemble import AdaBoostClassifier, RandomForestClassifier\n",
    "from sklearn.svm import SVC\n",
    "from sklearn import svm\n",
    "from PIL import Image,ImageFile\n"
   ]
  },
  {
   "cell_type": "code",
   "execution_count": 2,
   "metadata": {
    "colab": {
     "base_uri": "https://localhost:8080/",
     "height": 68
    },
    "id": "4CEFGdqcmsqx",
    "outputId": "7cc1989d-4064-405e-f279-566d88005b6f"
   },
   "outputs": [
    {
     "name": "stdout",
     "output_type": "stream",
     "text": [
      ">>>Reading  COVID\n",
      ">>>Reading  Lung_Opacity\n",
      ">>>Reading  Normal\n",
      ">>>Reading  Viral Pneumonia\n"
     ]
    }
   ],
   "source": [
    "DATA_PATH = \"COVID-19_Radiography_Dataset/\"\n",
    "training_data=[]\n",
    "label=[]\n",
    "count=-1\n",
    "for folder in os.listdir(DATA_PATH):\n",
    "    print(\">>>Reading \",folder)\n",
    "    count+=1\n",
    "    for file in os.listdir(DATA_PATH+folder):\n",
    "            img = image.imread(DATA_PATH+folder+'/'+file)\n",
    "            training_data.append(resize(img, (156, 156, 3))) \n",
    "            label.append(count)\n",
    "training_data=np.array(training_data)\n",
    "label=np.array(label)"
   ]
  },
  {
   "cell_type": "code",
   "execution_count": 3,
   "metadata": {
    "colab": {
     "base_uri": "https://localhost:8080/",
     "height": 51
    },
    "id": "EHSoNhbjfT_b",
    "outputId": "b879c796-24b9-4d7b-e736-9bd9fe63bac9"
   },
   "outputs": [
    {
     "name": "stdout",
     "output_type": "stream",
     "text": [
      "Number of COVID: 3616\n",
      "Number of Lung_opacity: 6012\n",
      "Number of Normal: 10192\n",
      "Number of Viral Pneumonia: 1345\n"
     ]
    }
   ],
   "source": [
    "print(\"Number of COVID:\",len(label[label==0]))\n",
    "print(\"Number of Lung_opacity:\",len(label[label==1]))\n",
    "print(\"Number of Normal:\",len(label[label==2]))\n",
    "print(\"Number of Viral Pneumonia:\",len(label[label==3]))"
   ]
  },
  {
   "cell_type": "code",
   "execution_count": 5,
   "metadata": {
    "colab": {
     "base_uri": "https://localhost:8080/",
     "height": 34
    },
    "id": "TbHVzhMYpfSR",
    "outputId": "c5f70e4a-4aac-4632-9cbf-2e7c17d580c8"
   },
   "outputs": [
    {
     "name": "stdout",
     "output_type": "stream",
     "text": [
      "Training data shape :  (21165, 156, 156, 3)  Label shape :  (21165,)\n"
     ]
    }
   ],
   "source": [
    "print(\"Training data shape : \",training_data.shape,\" Label shape : \",label.shape)"
   ]
  },
  {
   "cell_type": "code",
   "execution_count": 6,
   "metadata": {
    "id": "pPed_TbTpfUy"
   },
   "outputs": [],
   "source": [
    "test_valid_Percentage = 0.3\n",
    "x_train,x_test,y_train,y_test = train_test_split(training_data,label,test_size = test_valid_Percentage,random_state=42, stratify=label,shuffle=True)"
   ]
  },
  {
   "cell_type": "code",
   "execution_count": 7,
   "metadata": {
    "colab": {
     "base_uri": "https://localhost:8080/",
     "height": 51
    },
    "id": "yKCQLA9KpfXP",
    "outputId": "58d520cb-f173-47f4-e87d-38a4278ce87e"
   },
   "outputs": [
    {
     "name": "stdout",
     "output_type": "stream",
     "text": [
      "x_train shape :  (14815, 156, 156, 3)  y_train shape :  (14815,)\n",
      "x_test shape :  (6350, 156, 156, 3)  y_test shape :  (6350,)\n"
     ]
    }
   ],
   "source": [
    "print(\"x_train shape : \",x_train.shape,\" y_train shape : \",y_train.shape)\n",
    "print(\"x_test shape : \",x_test.shape,\" y_test shape : \",y_test.shape)"
   ]
  },
  {
   "cell_type": "code",
   "execution_count": 8,
   "metadata": {
    "colab": {
     "base_uri": "https://localhost:8080/",
     "height": 34
    },
    "id": "H-IQht0NpfZv",
    "outputId": "a56d6aee-5b2a-402d-bd8c-165176778e3a"
   },
   "outputs": [
    {
     "name": "stdout",
     "output_type": "stream",
     "text": [
      "y_train_oh shape :  (14815, 4)  y_test_oh shape :  (6350, 4)\n"
     ]
    }
   ],
   "source": [
    "y_train_oh = to_categorical(y_train)\n",
    "y_test_oh = to_categorical(y_test)\n",
    "\n",
    "print(\"y_train_oh shape : \",y_train_oh.shape,\" y_test_oh shape : \",y_test_oh.shape)"
   ]
  },
  {
   "cell_type": "code",
   "execution_count": 9,
   "metadata": {
    "colab": {
     "base_uri": "https://localhost:8080/",
     "height": 493
    },
    "id": "nTY9h-XlpfcV",
    "outputId": "efa8c1ca-d5c1-4847-f2e1-120a20ad2041"
   },
   "outputs": [
    {
     "name": "stdout",
     "output_type": "stream",
     "text": [
      "Model: \"sequential\"\n",
      "_________________________________________________________________\n",
      " Layer (type)                Output Shape              Param #   \n",
      "=================================================================\n",
      " conv2d (Conv2D)             (None, 156, 156, 32)      896       \n",
      "                                                                 \n",
      " max_pooling2d (MaxPooling2D  (None, 39, 39, 32)       0         \n",
      " )                                                               \n",
      "                                                                 \n",
      " conv2d_1 (Conv2D)           (None, 39, 39, 64)        18496     \n",
      "                                                                 \n",
      " max_pooling2d_1 (MaxPooling  (None, 13, 13, 64)       0         \n",
      " 2D)                                                             \n",
      "                                                                 \n",
      " conv2d_2 (Conv2D)           (None, 13, 13, 128)       73856     \n",
      "                                                                 \n",
      " dropout (Dropout)           (None, 13, 13, 128)       0         \n",
      "                                                                 \n",
      " flatten (Flatten)           (None, 21632)             0         \n",
      "                                                                 \n",
      " dense (Dense)               (None, 128)               2769024   \n",
      "                                                                 \n",
      " dropout_1 (Dropout)         (None, 128)               0         \n",
      "                                                                 \n",
      " dense_1 (Dense)             (None, 4)                 516       \n",
      "                                                                 \n",
      "=================================================================\n",
      "Total params: 2,862,788\n",
      "Trainable params: 2,862,788\n",
      "Non-trainable params: 0\n",
      "_________________________________________________________________\n"
     ]
    }
   ],
   "source": [
    "NO_OF_EPOCHS=10\n",
    "// cnn layers\n",
    "BATCH_SIZE=128\n",
    "\n",
    "model=Sequential()\n",
    "model.add(Conv2D(32,kernel_size=3, padding='same',activation='relu',input_shape=(156, 156,3)))\n",
    "model.add(MaxPool2D(pool_size=(4, 4)))\n",
    "model.add(Conv2D(64,kernel_size=3, padding='same',activation='relu'))\n",
    "model.add(MaxPool2D(pool_size=(3, 3)))\n",
    "model.add(Conv2D(128,kernel_size=3, padding='same',activation='relu'))\n",
    "model.add(Dropout(0.1))\n",
    "model.add(Flatten())\n",
    "model.add(Dense(128,activation='relu'))\n",
    "model.add(Dropout(0.1))\n",
    "model.add(Dense(4,activation='softmax'))\n",
    "model.summary()\n",
    "model.compile(loss='categorical_crossentropy', optimizer='adam',metrics=['accuracy'])"
   ]
  },
  {
   "cell_type": "code",
   "execution_count": 10,
   "metadata": {
    "colab": {
     "base_uri": "https://localhost:8080/",
     "height": 1000
    },
    "id": "1FaifFXAtiGd",
    "outputId": "d0e0d45f-4300-465b-817d-dbc44cd1cdb6"
   },
   "outputs": [
    {
     "name": "stdout",
     "output_type": "stream",
     "text": [
      "Epoch 1/10\n",
      "93/93 [==============================] - 232s 2s/step - loss: 0.8556 - accuracy: 0.6380 - val_loss: 0.6884 - val_accuracy: 0.7222\n",
      "Epoch 2/10\n",
      "93/93 [==============================] - 211s 2s/step - loss: 0.5651 - accuracy: 0.7773 - val_loss: 0.4694 - val_accuracy: 0.8208\n",
      "Epoch 3/10\n",
      "93/93 [==============================] - 259s 3s/step - loss: 0.4566 - accuracy: 0.8269 - val_loss: 0.4937 - val_accuracy: 0.8188\n",
      "Epoch 4/10\n",
      "93/93 [==============================] - 248s 3s/step - loss: 0.4170 - accuracy: 0.8403 - val_loss: 0.3791 - val_accuracy: 0.8623\n",
      "Epoch 5/10\n",
      "93/93 [==============================] - 256s 3s/step - loss: 0.3631 - accuracy: 0.8665 - val_loss: 0.3606 - val_accuracy: 0.8653\n",
      "Epoch 6/10\n",
      "93/93 [==============================] - 259s 3s/step - loss: 0.3281 - accuracy: 0.8770 - val_loss: 0.3371 - val_accuracy: 0.8755\n",
      "Epoch 7/10\n",
      "93/93 [==============================] - 259s 3s/step - loss: 0.2860 - accuracy: 0.8917 - val_loss: 0.3382 - val_accuracy: 0.8748\n",
      "Epoch 8/10\n",
      "93/93 [==============================] - 225s 2s/step - loss: 0.2670 - accuracy: 0.8995 - val_loss: 0.3188 - val_accuracy: 0.8829\n",
      "Epoch 9/10\n",
      "93/93 [==============================] - 214s 2s/step - loss: 0.2478 - accuracy: 0.9098 - val_loss: 0.3218 - val_accuracy: 0.8812\n",
      "Epoch 10/10\n",
      "93/93 [==============================] - 223s 2s/step - loss: 0.2208 - accuracy: 0.9161 - val_loss: 0.3270 - val_accuracy: 0.8869\n"
     ]
    },
    {
     "data": {
      "text/plain": [
       "<keras.callbacks.History at 0x29cb12eb610>"
      ]
     },
     "execution_count": 10,
     "metadata": {},
     "output_type": "execute_result"
    }
   ],
   "source": [
    "model.fit(x_train,y_train_oh,epochs=NO_OF_EPOCHS,verbose=1,batch_size=BATCH_SIZE,validation_split = 0.2)"
   ]
  },
  {
   "cell_type": "code",
   "execution_count": 11,
   "metadata": {
    "colab": {
     "base_uri": "https://localhost:8080/",
     "height": 34
    },
    "id": "EvadX63Gtkml",
    "outputId": "09a641cb-4d93-463f-c1c1-d49a8ed0860a"
   },
   "outputs": [
    {
     "name": "stdout",
     "output_type": "stream",
     "text": [
      "199/199 [==============================] - 39s 193ms/step\n"
     ]
    }
   ],
   "source": [
    "prediction_prob1 = model.predict(x_test,verbose=1)\n",
    "y_pred=np.round(prediction_prob1)"
   ]
  },
  {
   "cell_type": "code",
   "execution_count": 12,
   "metadata": {
    "colab": {
     "base_uri": "https://localhost:8080/",
     "height": 272
    },
    "id": "D1wc57zEtl0O",
    "outputId": "eba4223e-549f-4d8a-aaf3-45c857d7344f",
    "scrolled": true
   },
   "outputs": [
    {
     "name": "stdout",
     "output_type": "stream",
     "text": [
      "0.8776377952755906\n",
      "0.8864711879711086\n",
      "0.8776377952755906\n",
      "0.8816607312910171\n",
      "              precision    recall  f1-score   support\n",
      "\n",
      "           0       0.95      0.86      0.91      1085\n",
      "           1       0.83      0.83      0.83      1804\n",
      "           2       0.89      0.90      0.90      3058\n",
      "           3       0.92      0.95      0.93       403\n",
      "\n",
      "   micro avg       0.89      0.88      0.88      6350\n",
      "   macro avg       0.90      0.89      0.89      6350\n",
      "weighted avg       0.89      0.88      0.88      6350\n",
      " samples avg       0.88      0.88      0.88      6350\n",
      "\n"
     ]
    },
    {
     "name": "stderr",
     "output_type": "stream",
     "text": [
      "C:\\Users\\pvabh\\AppData\\Local\\Programs\\Python\\Python39\\lib\\site-packages\\sklearn\\metrics\\_classification.py:1327: UndefinedMetricWarning: Precision and F-score are ill-defined and being set to 0.0 in samples with no predicted labels. Use `zero_division` parameter to control this behavior.\n",
      "  _warn_prf(average, modifier, msg_start, len(result))\n"
     ]
    }
   ],
   "source": [
    "print(accuracy_score(y_test_oh,y_pred))\n",
    "print(precision_score(y_test_oh,y_pred,average='weighted'))\n",
    "print(recall_score(y_test_oh,y_pred,average='weighted'))\n",
    "print(f1_score(y_test_oh,y_pred,average='weighted'))\n",
    "#print(confusion_matrix(y_test_oh,y_pred))\n",
    "print(classification_report(y_test_oh,y_pred))"
   ]
  },
  {
   "cell_type": "code",
   "execution_count": 13,
   "metadata": {
    "id": "xyaBdstj1kGZ"
   },
   "outputs": [],
   "source": [
    "from mlxtend.plotting import plot_confusion_matrix\n",
    "import matplotlib.pyplot as plt\n"
   ]
  },
  {
   "cell_type": "code",
   "execution_count": 14,
   "metadata": {
    "id": "pUvixWaU1kGa",
    "outputId": "51fcab7e-6a6b-442a-ebc7-d48d98278748"
   },
   "outputs": [
    {
     "data": {
      "image/png": "[encoded data removed]",
      "text/plain": [
       "<Figure size 648x432 with 1 Axes>"
      ]
     },
     "metadata": {
      "needs_background": "light"
     },
     "output_type": "display_data"
    }
   ],
   "source": [
    "labels= ['COVID', 'Lung_Opacity','Normal' 'Viral Pneumonia']\n",
    "cf = confusion_matrix(y_test_oh.argmax(axis = 1),y_pred.argmax(axis = 1))\n",
    "fig, ax = plot_confusion_matrix(conf_mat=cf, figsize=(9, 6), cmap=plt.cm.Blues)\n",
    "plt.xlabel('Prediction', fontsize=20)\n",
    "plt.ylabel('Actual', fontsize=20)\n",
    "plt.title('Confusion Matrix', fontsize=20)\n",
    "plt.show()"
   ]
  },
  {
   "cell_type": "code",
   "execution_count": 54,
   "metadata": {
    "id": "nDj9uwZWJBBf"
   },
   "outputs": [],
   "source": [
    "m1model = Model(inputs=model.input,outputs=model.get_layer('dense_1').output)"
   ]
  },
  {
   "cell_type": "code",
   "execution_count": 55,
   "metadata": {
    "colab": {
     "base_uri": "https://localhost:8080/",
     "height": 85
    },
    "id": "J6dHPeHrNKXj",
    "outputId": "668de787-daf2-4eca-af69-29914aa49bf0"
   },
   "outputs": [
    {
     "name": "stdout",
     "output_type": "stream",
     "text": [
      "463/463 [==============================] - 48s 103ms/step\n",
      "199/199 [==============================] - 21s 105ms/step\n"
     ]
    }
   ],
   "source": [
    "m1_x_train = m1model.predict(x_train,verbose=1)\n",
    "m1_x_test = m1model.predict(x_test,verbose=1)\n"
   ]
  },
  {
   "cell_type": "code",
   "execution_count": 17,
   "metadata": {
    "colab": {
     "base_uri": "https://localhost:8080/",
     "height": 51
    },
    "id": "rOWwASaINooU",
    "outputId": "09566efc-abdc-4e80-c21b-50bb8c0e3d1a"
   },
   "outputs": [
    {
     "name": "stdout",
     "output_type": "stream",
     "text": [
      "Shape of model1 Train and Test DF :  (14815, 4)  :  (6350, 4)\n"
     ]
    }
   ],
   "source": [
    "print(\"Shape of model1 Train and Test DF : \",m1_x_train.shape,\" : \",m1_x_test.shape)"
   ]
  },
  {
   "cell_type": "code",
   "execution_count": 18,
   "metadata": {
    "id": "-tc4PGZgOOnl"
   },
   "outputs": [],
   "source": [
    "def printMetrics(true,pred):\n",
    "    print(\"Accuracy : \",accuracy_score(true, pred))\n",
    "    print(\"Precision\",precision_score(true, pred , average=\"weighted\"))\n",
    "    print(\"Recall : \",recall_score(true, pred , average=\"weighted\"))\n",
    "    print(\"F1-score : \",f1_score(true, pred, average=\"weighted\"))\n",
    "    print(\"Confusion Matrix : \")\n",
    "    print(confusion_matrix(true, pred))\n",
    "    print(classification_report(true,pred))"
   ]
  },
  {
   "cell_type": "code",
   "execution_count": 19,
   "metadata": {
    "colab": {
     "base_uri": "https://localhost:8080/",
     "height": 683
    },
    "id": "4alG-hj2N2Yf",
    "outputId": "fb901fc5-47d1-4ec4-a05a-59f901958693"
   },
   "outputs": [
    {
     "name": "stdout",
     "output_type": "stream",
     "text": [
      "cost-insensitive\n",
      "Accuracy :  0.8886614173228347\n",
      "Precision 0.888813277454533\n",
      "Recall :  0.8886614173228347\n",
      "F1-score :  0.8883330971970859\n",
      "Confusion Matrix : \n",
      "[[ 970   45   61    9]\n",
      " [  31 1478  292    3]\n",
      " [  26  202 2815   15]\n",
      " [   2    3   18  380]]\n",
      "              precision    recall  f1-score   support\n",
      "\n",
      "           0       0.94      0.89      0.92      1085\n",
      "           1       0.86      0.82      0.84      1804\n",
      "           2       0.88      0.92      0.90      3058\n",
      "           3       0.93      0.94      0.94       403\n",
      "\n",
      "    accuracy                           0.89      6350\n",
      "   macro avg       0.90      0.89      0.90      6350\n",
      "weighted avg       0.89      0.89      0.89      6350\n",
      "\n"
     ]
    }
   ],
   "source": [
    "LR = LogisticRegression()\n",
    "LR.fit(m1_x_train, y_train)\n",
    "LRprob = LR.predict_proba(m1_x_test)\n",
    "y_pred = LR.predict(m1_x_test)\n",
    "print(\"cost-insensitive\")\n",
    "printMetrics(y_test,y_pred)\n",
    "\n"
   ]
  },
  {
   "cell_type": "code",
   "execution_count": 20,
   "metadata": {
    "colab": {
     "base_uri": "https://localhost:8080/",
     "height": 683
    },
    "id": "3N7zMQB9UoOb",
    "outputId": "1e488a3f-bc10-4fd5-9d90-d2514d666383"
   },
   "outputs": [
    {
     "name": "stdout",
     "output_type": "stream",
     "text": [
      "cost-insensitive\n",
      "Accuracy :  0.8792125984251968\n",
      "Precision 0.8787881804984866\n",
      "Recall :  0.8792125984251968\n",
      "F1-score :  0.8786696891338944\n",
      "Confusion Matrix : \n",
      "[[ 985   37   54    9]\n",
      " [  42 1444  314    4]\n",
      " [  44  219 2777   18]\n",
      " [   2    3   21  377]]\n",
      "              precision    recall  f1-score   support\n",
      "\n",
      "           0       0.92      0.91      0.91      1085\n",
      "           1       0.85      0.80      0.82      1804\n",
      "           2       0.88      0.91      0.89      3058\n",
      "           3       0.92      0.94      0.93       403\n",
      "\n",
      "    accuracy                           0.88      6350\n",
      "   macro avg       0.89      0.89      0.89      6350\n",
      "weighted avg       0.88      0.88      0.88      6350\n",
      "\n"
     ]
    }
   ],
   "source": [
    "RF = RandomForestClassifier()\n",
    "RF.fit(m1_x_train, y_train)\n",
    "RFprob = RF.predict_proba(m1_x_test)\n",
    "y_pred = RF.predict(m1_x_test)\n",
    "print(\"cost-insensitive\")\n",
    "printMetrics(y_test,y_pred)\n"
   ]
  },
  {
   "cell_type": "code",
   "execution_count": 21,
   "metadata": {
    "colab": {
     "base_uri": "https://localhost:8080/",
     "height": 595
    },
    "id": "gYyDSr-KU75W",
    "outputId": "73b881a5-d2e5-488f-a034-9ff2cfb0032a"
   },
   "outputs": [
    {
     "name": "stdout",
     "output_type": "stream",
     "text": [
      "cost-insensitive\n",
      "Accuracy :  0.852755905511811\n",
      "Precision 0.8524541909408544\n",
      "Recall :  0.852755905511811\n",
      "F1-score :  0.8525899550443887\n",
      "Confusion Matrix : \n",
      "[[ 963   54   57   11]\n",
      " [  58 1416  326    4]\n",
      " [  64  311 2661   22]\n",
      " [   3    3   22  375]]\n",
      "              precision    recall  f1-score   support\n",
      "\n",
      "           0       0.89      0.89      0.89      1085\n",
      "           1       0.79      0.78      0.79      1804\n",
      "           2       0.87      0.87      0.87      3058\n",
      "           3       0.91      0.93      0.92       403\n",
      "\n",
      "    accuracy                           0.85      6350\n",
      "   macro avg       0.86      0.87      0.87      6350\n",
      "weighted avg       0.85      0.85      0.85      6350\n",
      "\n"
     ]
    }
   ],
   "source": [
    "DT = DecisionTreeClassifier()\n",
    "DT.fit(m1_x_train, y_train)\n",
    "DTprob = DT.predict_proba(m1_x_test)\n",
    "y_pred = DT.predict(m1_x_test)\n",
    "print(\"cost-insensitive\")\n",
    "printMetrics(y_test,y_pred)\n",
    "\n"
   ]
  },
  {
   "cell_type": "code",
   "execution_count": 22,
   "metadata": {
    "colab": {
     "base_uri": "https://localhost:8080/",
     "height": 595
    },
    "id": "Vn0NQGd1VJuV",
    "outputId": "cdd80a30-0187-47a4-94a6-27a7bd7a7059"
   },
   "outputs": [
    {
     "name": "stdout",
     "output_type": "stream",
     "text": [
      "cost-insensitive\n",
      "Accuracy :  0.8790551181102362\n",
      "Precision 0.8786065730928212\n",
      "Recall :  0.8790551181102362\n",
      "F1-score :  0.8782769227522423\n",
      "Confusion Matrix : \n",
      "[[ 991   37   48    9]\n",
      " [  46 1425  330    3]\n",
      " [  50  202 2791   15]\n",
      " [   2    4   22  375]]\n",
      "              precision    recall  f1-score   support\n",
      "\n",
      "           0       0.91      0.91      0.91      1085\n",
      "           1       0.85      0.79      0.82      1804\n",
      "           2       0.87      0.91      0.89      3058\n",
      "           3       0.93      0.93      0.93       403\n",
      "\n",
      "    accuracy                           0.88      6350\n",
      "   macro avg       0.89      0.89      0.89      6350\n",
      "weighted avg       0.88      0.88      0.88      6350\n",
      "\n"
     ]
    }
   ],
   "source": [
    "\n",
    "KNN = KNeighborsClassifier()\n",
    "KNN.fit(m1_x_train, y_train)\n",
    "KNNprob = KNN.predict_proba(m1_x_test)\n",
    "y_pred = KNN.predict(m1_x_test)\n",
    "print(\"cost-insensitive\")\n",
    "printMetrics(y_test,y_pred)\n",
    "\n"
   ]
  },
  {
   "cell_type": "code",
   "execution_count": 23,
   "metadata": {
    "colab": {
     "base_uri": "https://localhost:8080/",
     "height": 595
    },
    "id": "YI-AnbGXVLA8",
    "outputId": "17ab714f-4605-4546-e3db-b487daad1b59"
   },
   "outputs": [
    {
     "name": "stdout",
     "output_type": "stream",
     "text": [
      "cost-insensitive\n",
      "Accuracy :  0.8822047244094489\n",
      "Precision 0.8824387392135378\n",
      "Recall :  0.8822047244094489\n",
      "F1-score :  0.8822710083637678\n",
      "Confusion Matrix : \n",
      "[[ 985   47   43   10]\n",
      " [  39 1504  260    1]\n",
      " [  38  267 2728   25]\n",
      " [   2    3   13  385]]\n",
      "              precision    recall  f1-score   support\n",
      "\n",
      "           0       0.93      0.91      0.92      1085\n",
      "           1       0.83      0.83      0.83      1804\n",
      "           2       0.90      0.89      0.89      3058\n",
      "           3       0.91      0.96      0.93       403\n",
      "\n",
      "    accuracy                           0.88      6350\n",
      "   macro avg       0.89      0.90      0.89      6350\n",
      "weighted avg       0.88      0.88      0.88      6350\n",
      "\n"
     ]
    }
   ],
   "source": [
    "\n",
    "GNB = GaussianNB()\n",
    "GNB.fit(m1_x_train, y_train)\n",
    "GNBprob = GNB.predict_proba(m1_x_test)\n",
    "y_pred = GNB.predict(m1_x_test)\n",
    "print(\"cost-insensitive\")\n",
    "printMetrics(y_test,y_pred)\n",
    "\n"
   ]
  },
  {
   "cell_type": "code",
   "execution_count": 24,
   "metadata": {
    "colab": {
     "base_uri": "https://localhost:8080/",
     "height": 595
    },
    "id": "RmPbNRrIVLDj",
    "outputId": "9a39e468-d571-489c-e480-9be2e62e402e"
   },
   "outputs": [
    {
     "name": "stdout",
     "output_type": "stream",
     "text": [
      "cost-insensitive\n",
      "Accuracy :  0.732755905511811\n",
      "Precision 0.795860314063767\n",
      "Recall :  0.732755905511811\n",
      "F1-score :  0.7316020228645368\n",
      "Confusion Matrix : \n",
      "[[ 941   42   91   11]\n",
      " [  45 1656  102    1]\n",
      " [  63 1291 1672   32]\n",
      " [   2    4   13  384]]\n",
      "              precision    recall  f1-score   support\n",
      "\n",
      "           0       0.90      0.87      0.88      1085\n",
      "           1       0.55      0.92      0.69      1804\n",
      "           2       0.89      0.55      0.68      3058\n",
      "           3       0.90      0.95      0.92       403\n",
      "\n",
      "    accuracy                           0.73      6350\n",
      "   macro avg       0.81      0.82      0.79      6350\n",
      "weighted avg       0.80      0.73      0.73      6350\n",
      "\n"
     ]
    }
   ],
   "source": [
    "AB = AdaBoostClassifier()\n",
    "AB.fit(m1_x_train, y_train)\n",
    "ABprob = AB.predict_proba(m1_x_test)\n",
    "y_pred = AB.predict(m1_x_test)\n",
    "print(\"cost-insensitive\")\n",
    "printMetrics(y_test,y_pred)\n",
    "\n"
   ]
  },
  {
   "cell_type": "code",
   "execution_count": 25,
   "metadata": {
    "colab": {
     "base_uri": "https://localhost:8080/",
     "height": 595
    },
    "id": "6v8X2z4fVLGG",
    "outputId": "e2a34aea-7a63-43b1-b7a2-1c9a6c6d913f"
   },
   "outputs": [
    {
     "name": "stdout",
     "output_type": "stream",
     "text": [
      "cost-insensitive\n",
      "Accuracy :  0.8878740157480315\n",
      "Precision 0.8876349523307789\n",
      "Recall :  0.8878740157480315\n",
      "F1-score :  0.8872803051641809\n",
      "Confusion Matrix : \n",
      "[[ 981   40   54   10]\n",
      " [  42 1458  300    4]\n",
      " [  33  190 2819   16]\n",
      " [   2    3   18  380]]\n",
      "              precision    recall  f1-score   support\n",
      "\n",
      "           0       0.93      0.90      0.92      1085\n",
      "           1       0.86      0.81      0.83      1804\n",
      "           2       0.88      0.92      0.90      3058\n",
      "           3       0.93      0.94      0.93       403\n",
      "\n",
      "    accuracy                           0.89      6350\n",
      "   macro avg       0.90      0.89      0.90      6350\n",
      "weighted avg       0.89      0.89      0.89      6350\n",
      "\n"
     ]
    }
   ],
   "source": [
    "LSVM = svm.SVC(kernel='linear',probability=True)\n",
    "LSVM.fit(m1_x_train, y_train)\n",
    "LSVMprob = LSVM.predict_proba(m1_x_test)\n",
    "y_pred = LSVM.predict(m1_x_test)\n",
    "print(\"cost-insensitive\")\n",
    "printMetrics(y_test,y_pred)\n",
    "\n"
   ]
  },
  {
   "cell_type": "code",
   "execution_count": 26,
   "metadata": {
    "colab": {
     "base_uri": "https://localhost:8080/",
     "height": 649
    },
    "id": "V-LawyEnVLIv",
    "outputId": "6e422d62-2340-482f-cda2-b3e4515468b4",
    "scrolled": true
   },
   "outputs": [
    {
     "name": "stdout",
     "output_type": "stream",
     "text": [
      "cost-insensitive\n",
      "Accuracy :  0.8877165354330708\n",
      "Precision 0.8877511397411241\n",
      "Recall :  0.8877165354330708\n",
      "F1-score :  0.8869296748165371\n",
      "Confusion Matrix : \n",
      "[[ 980   40   55   10]\n",
      " [  38 1440  323    3]\n",
      " [  34  173 2837   14]\n",
      " [   2    3   18  380]]\n",
      "              precision    recall  f1-score   support\n",
      "\n",
      "           0       0.93      0.90      0.92      1085\n",
      "           1       0.87      0.80      0.83      1804\n",
      "           2       0.88      0.93      0.90      3058\n",
      "           3       0.93      0.94      0.94       403\n",
      "\n",
      "    accuracy                           0.89      6350\n",
      "   macro avg       0.90      0.89      0.90      6350\n",
      "weighted avg       0.89      0.89      0.89      6350\n",
      "\n"
     ]
    }
   ],
   "source": [
    "RSVM = svm.SVC(kernel='rbf',probability=True)\n",
    "RSVM.fit(m1_x_train, y_train)\n",
    "RSVMprob = RSVM.predict_proba(m1_x_test)\n",
    "y_pred = RSVM.predict(m1_x_test)\n",
    "print(\"cost-insensitive\")\n",
    "printMetrics(y_test,y_pred)\n",
    "\n"
   ]
  },
  {
   "cell_type": "markdown",
   "metadata": {},
   "source": [
    "## Prediction"
   ]
  },
  {
   "cell_type": "code",
   "execution_count": 62,
   "metadata": {},
   "outputs": [],
   "source": [
    "import tensorflow as tf"
   ]
  },
  {
   "cell_type": "code",
   "execution_count": 63,
   "metadata": {},
   "outputs": [],
   "source": [
    "testimg = image.imread(\"COVID-19_Radiography_Dataset/Lung_Opacity/Lung_Opacity-1.png\")\n",
    "testimg = resize(testimg, (156, 156, 3))"
   ]
  },
  {
   "cell_type": "code",
   "execution_count": 64,
   "metadata": {
    "scrolled": true
   },
   "outputs": [
    {
     "name": "stdout",
     "output_type": "stream",
     "text": [
      "1/1 [==============================] - 0s 52ms/step\n"
     ]
    },
    {
     "data": {
      "text/plain": [
       "array([1])"
      ]
     },
     "execution_count": 64,
     "metadata": {},
     "output_type": "execute_result"
    }
   ],
   "source": [
    "new_image = tf.expand_dims(testimg,0)\n",
    "new_image = m1model.predict(new_image,verbose=1)\n",
    "RF.predict(new_image)"
   ]
  },
  {
   "cell_type": "code",
   "execution_count": 60,
   "metadata": {
    "scrolled": true
   },
   "outputs": [
    {
     "name": "stdout",
     "output_type": "stream",
     "text": [
      "WARNING:tensorflow:No training configuration found in the save file, so the model was *not* compiled. Compile it manually.\n"
     ]
    }
   ],
   "source": [
    "from keras.models import load_model\n",
    "testmodel = load_model('model.h5')"
   ]
  },
  {
   "cell_type": "code",
   "execution_count": 71,
   "metadata": {},
   "outputs": [
    {
     "name": "stdout",
     "output_type": "stream",
     "text": [
      "1/1 [==============================] - 0s 36ms/step\n"
     ]
    },
    {
     "data": {
      "text/plain": [
       "array([2])"
      ]
     },
     "execution_count": 71,
     "metadata": {},
     "output_type": "execute_result"
    }
   ],
   "source": [
    "xyz = image.imread(\"COVID-19_Radiography_Dataset/Normal/Normal-11.png\")\n",
    "xyz = resize(xyz, (156, 156, 3))\n",
    "xyz = tf.expand_dims(xyz,0)\n",
    "xyz = testmodel.predict(xyz,verbose=1)\n",
    "loaded_model = pickle.load(open(\"RFModel.pkl\", 'rb'))\n",
    "loaded_model.predict(xyz)"
   ]
  }
 ],
 "metadata": {
  "accelerator": "GPU",
  "colab": {
   "collapsed_sections": [],
   "name": "ML_Models",
   "provenance": []
  },
  "kernelspec": {
   "display_name": "Python 3 (ipykernel)",
   "language": "python",
   "name": "python3"
  },
  "language_info": {
   "codemirror_mode": {
    "name": "ipython",
    "version": 3
   },
   "file_extension": ".py",
   "mimetype": "text/x-python",
   "name": "python",
   "nbconvert_exporter": "python",
   "pygments_lexer": "ipython3",
   "version": "3.9.5"
  }
 },
 "nbformat": 4,
 "nbformat_minor": 1
}
